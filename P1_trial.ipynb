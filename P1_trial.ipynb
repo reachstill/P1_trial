{
 "cells": [
  {
   "cell_type": "code",
   "execution_count": 6,
   "metadata": {
    "ExecuteTime": {
     "end_time": "2019-08-26T04:46:47.918548Z",
     "start_time": "2019-08-26T04:46:46.037642Z"
    }
   },
   "outputs": [
    {
     "data": {
      "text/plain": [
       "<bound method NDFrame.describe of           id            author  ...                          title                               url\n",
       "0          1            王子江 张寒  ...                   （体育）题：乒乓女球迷　  http://home.xinhua-news.com/gdsd\n",
       "1          2               夏文辉  ...              哈佛大学为何取消这些新生入选资格？  http://home.xinhua-news.com/gdsd\n",
       "2          3                张旌  ...           法国议会选举　马克龙有望获“压倒性胜利”  http://home.xinhua-news.com/gdsd\n",
       "3          4                王衡  ...          （经济）甘肃集中开工35个重点交通建设项目  http://home.xinhua-news.com/gdsd\n",
       "4          5                邹峥  ...   （体育）（2）冰球——国家女子冰球队海外选秀在多伦多展开  http://home.xinhua-news.com/gdsd\n",
       "5          6               郑焕松  ...      （文化）（3）电影《血战湘江》举行清华大学巡映活动  http://home.xinhua-news.com/gdsd\n",
       "6          7               郑焕松  ...      （文化）（2）电影《血战湘江》举行清华大学巡映活动  http://home.xinhua-news.com/gdsd\n",
       "7          8               郑焕松  ...      （文化）（1）电影《血战湘江》举行清华大学巡映活动  http://home.xinhua-news.com/gdsd\n",
       "8          9  LISELOTTE SABROE  ...       [9]（外代二线）足球——国际友谊赛：德国平丹麦  http://home.xinhua-news.com/gdsd\n",
       "9         10  LISELOTTE SABROE  ...       [7]（外代二线）足球——国际友谊赛：德国平丹麦  http://home.xinhua-news.com/gdsd\n",
       "10        11  LISELOTTE SABROE  ...       [8]（外代二线）足球——国际友谊赛：德国平丹麦  http://home.xinhua-news.com/gdsd\n",
       "11        12  LISELOTTE SABROE  ...       [5]（外代二线）足球——国际友谊赛：德国平丹麦  http://home.xinhua-news.com/gdsd\n",
       "12        13  LISELOTTE SABROE  ...       [6]（外代二线）足球——国际友谊赛：德国平丹麦  http://home.xinhua-news.com/gdsd\n",
       "13        14  LISELOTTE SABROE  ...       [4]（外代二线）足球——国际友谊赛：德国平丹麦  http://home.xinhua-news.com/gdsd\n",
       "14        15  LISELOTTE SABROE  ...       [2]（外代二线）足球——国际友谊赛：德国平丹麦  http://home.xinhua-news.com/gdsd\n",
       "15        16  LISELOTTE SABROE  ...       [3]（外代二线）足球——国际友谊赛：德国平丹麦  http://home.xinhua-news.com/gdsd\n",
       "16        17  LISELOTTE SABROE  ...       [1]（外代二线）足球——国际友谊赛：德国平丹麦  http://home.xinhua-news.com/gdsd\n",
       "17        18               NaN  ...             伊拉克安巴尔省发生自杀式袭击７人死亡  http://home.xinhua-news.com/gdsd\n",
       "18        19                张旌  ...            “萨德”环评将重启　在韩部署或推迟一年  http://home.xinhua-news.com/gdsd\n",
       "19        20      LOVELY GHOSH  ...                  [5]（外代二线）蚕丝生产  http://home.xinhua-news.com/gdsd\n",
       "20        21      LOVELY GHOSH  ...                  [4]（外代二线）蚕丝生产  http://home.xinhua-news.com/gdsd\n",
       "21        22      LOVELY GHOSH  ...                  [3]（外代二线）蚕丝生产  http://home.xinhua-news.com/gdsd\n",
       "22        23      LOVELY GHOSH  ...                  [2]（外代二线）蚕丝生产  http://home.xinhua-news.com/gdsd\n",
       "23        24      LOVELY GHOSH  ...                  [1]（外代二线）蚕丝生产  http://home.xinhua-news.com/gdsd\n",
       "24        25       INACIO ROSA  ...         [7]（外代二线）足球——世预赛：葡萄牙备战  http://home.xinhua-news.com/gdsd\n",
       "25        26       INACIO ROSA  ...         [6]（外代二线）足球——世预赛：葡萄牙备战  http://home.xinhua-news.com/gdsd\n",
       "26        27       INACIO ROSA  ...         [5]（外代二线）足球——世预赛：葡萄牙备战  http://home.xinhua-news.com/gdsd\n",
       "27        28       INACIO ROSA  ...         [4]（外代二线）足球——世预赛：葡萄牙备战  http://home.xinhua-news.com/gdsd\n",
       "28        29       INACIO ROSA  ...         [3]（外代二线）足球——世预赛：葡萄牙备战  http://home.xinhua-news.com/gdsd\n",
       "29        30       INACIO ROSA  ...         [2]（外代二线）足球——世预赛：葡萄牙备战  http://home.xinhua-news.com/gdsd\n",
       "...      ...               ...  ...                            ...                               ...\n",
       "89581  89588               NaN  ...         乐视危局：靠卖资产续命 员工被猎头大规模拉黑  http://tech.sina.com.cn/i/2017-0\n",
       "89582  89589               NaN  ...        江苏保级真悬了 近3年1铁律证明其几乎保级无望  http://sports.ifeng.com/a/201706\n",
       "89583  89590               NaN  ...      火灾与脱欧炙烤英国首相 特雷莎·梅面临空前政治压力  http://world.huanqiu.com/hot/201\n",
       "89584  89591               NaN  ...       又一自动驾驶公司拿加州路测牌照 这回是王劲的景驰  http://www.cnbeta.com/articles/t\n",
       "89585  89592               NaN  ...    土耳其近590名士兵疑食物中毒 被送往医院救治（组图）  http://world.huanqiu.com/hot/201\n",
       "89586  89593         屠震林 PS040  ...      “齐心协力”--江苏苏宁发布足协杯对阵河南建业海报  http://sports.ifeng.com/a/201706\n",
       "89587  89594                张怡  ...             中证午评：A股跳水 蓝筹暂歇热点熄火  http://www.cs.com.cn/gppd/201706\n",
       "89588  89595               NaN  ...           业内人士解释为什么OPPO供货能力强无敌  http://www.cnbeta.com/articles/t\n",
       "89589  89596             周佳 整理  ...                机构推荐：下周具备布局潜力金股  http://www.cs.com.cn/gppd/tzpj/2\n",
       "89590  89597               NaN  ...        美军击落叙战机激怒俄罗斯 俄警告将瞄准美军战机  http://mil.news.sina.com.cn/worl\n",
       "89591  89598             周佳 整理  ...           机构解析：下周热点板块及个股探秘（附股）  http://www.cs.com.cn/gppd/hyyj/2\n",
       "89592  89599                张怡  ...             新三板午评：三板做市指数刷新阶段低点  http://www.cs.com.cn/gppd/201706\n",
       "89593  89600               NaN  ...              [及时点]我们不需要“百变老太太”  http://column.cankaoxiaoxi.com/p\n",
       "89594  89601               NaN  ...            Debian 9 Stretch 发布  http://www.cnbeta.com/articles/s\n",
       "89595  89602               费天元  ...         地产股拉升难阻市场颓势 三大指数早盘集体跳水  http://www.cs.com.cn/gppd/201706\n",
       "89596  89603               NaN  ...           MSCI闯关成功会是A股的一针强心剂吗？  http://column.cankaoxiaoxi.com/p\n",
       "89597  89604            申玉彬 整理  ...                  博友午评：风格转换前的阵痛  http://www.cs.com.cn/gppd/201706\n",
       "89598  89605               NaN  ...        因为犯罪现场的一根头发，他坐冤狱41年后终获释  http://world.huanqiu.com/hot/201\n",
       "89599  89606               NaN  ...         早间机构看市：市场将再次探底 两类股逢低布局  http://www.cs.com.cn/gppd/201706\n",
       "89600  89607               NaN  ...           私募：蓝筹风格难切换 业绩估值相配是王道  http://www.cs.com.cn/gppd/201706\n",
       "89601  89608                吴瞬  ...            纳入MSCI指数 A股长期配置价值提升  http://www.cs.com.cn/gppd/201706\n",
       "89602  89609        李杭_BJS4645  ...       武汉千余警察出动 抓获808名俊男靓女全是诈骗犯  http://news.163.com/17/0614/14/C\n",
       "89603  89610            申玉彬 整理  ...                博友早评：震荡有利消化套牢筹码  http://www.cs.com.cn/gppd/201706\n",
       "89604  89611               NaN  ...            配骁龙660 全面屏鼻祖夏普新机酝酿中  http://www.cnbeta.com/articles/t\n",
       "89605  89612                张怡  ...                 金融股一枝独秀 配置价值犹存  http://www.cs.com.cn/gppd/201706\n",
       "89606  89613        胡淑丽_MN7479  ...       44岁女子约网友被拒暴雨中裸奔 交警为其披衣相随  http://news.163.com/17/0618/00/C\n",
       "89607  89614               NaN  ...  葡森林火灾造成至少62人死亡 政府宣布进入紧急状态（组图）  http://world.huanqiu.com/hot/201\n",
       "89608  89615               NaN  ...      一加手机5细节曝光：3300mAh、充半小时用1天  http://www.cnbeta.com/articles/t\n",
       "89609  89616               NaN  ...     骁龙835在Windows 10上的性能表现有望改善  http://www.cnbeta.com/articles/t\n",
       "89610  89617               NaN  ...           小米MIUI 9首批机型曝光：共计15款  http://www.cnbeta.com/articles/t\n",
       "\n",
       "[89611 rows x 7 columns]>"
      ]
     },
     "execution_count": 6,
     "metadata": {},
     "output_type": "execute_result"
    }
   ],
   "source": [
    "import pandas as pd\n",
    "\n",
    "data = pd.read_csv('news_chinese.csv')\n",
    "data.describe"
   ]
  },
  {
   "cell_type": "code",
   "execution_count": 7,
   "metadata": {
    "ExecuteTime": {
     "end_time": "2019-08-26T04:51:54.304026Z",
     "start_time": "2019-08-26T04:51:54.123261Z"
    }
   },
   "outputs": [
    {
     "name": "stdout",
     "output_type": "stream",
     "text": [
      "Python 3.7.3\n"
     ]
    }
   ],
   "source": [
    "!python --version"
   ]
  }
 ],
 "metadata": {
  "kernelspec": {
   "display_name": "Python 3",
   "language": "python",
   "name": "python3"
  },
  "language_info": {
   "codemirror_mode": {
    "name": "ipython",
    "version": 3
   },
   "file_extension": ".py",
   "mimetype": "text/x-python",
   "name": "python",
   "nbconvert_exporter": "python",
   "pygments_lexer": "ipython3",
   "version": "3.7.3"
  }
 },
 "nbformat": 4,
 "nbformat_minor": 2
}
